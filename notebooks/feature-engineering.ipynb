{
 "cells": [
  {
   "cell_type": "code",
   "execution_count": 90,
   "id": "aaa57965",
   "metadata": {},
   "outputs": [],
   "source": [
    "# Import necessary libraries\n",
    "import pandas as pd\n",
    "import numpy as np\n",
    "from sklearn.preprocessing import StandardScaler, MinMaxScaler\n",
    "import scorecardpy as sc"
   ]
  },
  {
   "cell_type": "code",
   "execution_count": 91,
   "id": "a93c0dc9",
   "metadata": {},
   "outputs": [],
   "source": [
    "# # 1Create Aggregate Features"
   ]
  },
  {
   "cell_type": "code",
   "execution_count": 92,
   "id": "7d27289e",
   "metadata": {},
   "outputs": [],
   "source": [
    "# Load your dataset (replace 'your_file.csv' with your actual file path)\n",
    "df = pd.read_csv('../data/proccessed/cleaned_data.csv')"
   ]
  },
  {
   "cell_type": "code",
   "execution_count": 93,
   "id": "5658d455",
   "metadata": {},
   "outputs": [],
   "source": [
    "# Total Transaction Amount per customer\n",
    "df['TotalTransactionAmount'] = df.groupby('CustomerId')['Amount'].transform('sum')\n",
    "\n",
    "# Average Transaction Amount per customer\n",
    "df['AverageTransactionAmount'] = df.groupby('CustomerId')['Amount'].transform('mean')\n",
    "\n",
    "# Transaction Count per customer\n",
    "df['TransactionCount'] = df.groupby('CustomerId')['TransactionId'].transform('count')\n",
    "\n",
    "# Standard Deviation of Transaction Amounts per customer\n",
    "df['TransactionAmountStd'] = df.groupby('CustomerId')['Amount'].transform('std').fillna(0)"
   ]
  },
  {
   "cell_type": "code",
   "execution_count": 94,
   "id": "a65cbb38",
   "metadata": {},
   "outputs": [],
   "source": [
    "## Extract Time-Based Features"
   ]
  },
  {
   "cell_type": "code",
   "execution_count": 95,
   "id": "756dbe5c",
   "metadata": {},
   "outputs": [],
   "source": [
    "df['TransactionStartTime'] = pd.to_datetime(df['TransactionStartTime'], errors='coerce')\n",
    "\n",
    "df['TransactionHour'] = df['TransactionStartTime'].dt.hour\n",
    "df['TransactionDay'] = df['TransactionStartTime'].dt.day\n",
    "df['TransactionMonth'] = df['TransactionStartTime'].dt.month\n",
    "df['TransactionYear'] = df['TransactionStartTime'].dt.year"
   ]
  },
  {
   "cell_type": "code",
   "execution_count": 96,
   "id": "a265fa62",
   "metadata": {},
   "outputs": [],
   "source": [
    "## Encode Categorical Variables using WOE"
   ]
  },
  {
   "cell_type": "code",
   "execution_count": 97,
   "id": "bed1a989",
   "metadata": {},
   "outputs": [
    {
     "name": "stdout",
     "output_type": "stream",
     "text": [
      "[INFO] creating woe binning ...\n"
     ]
    },
    {
     "name": "stderr",
     "output_type": "stream",
     "text": [
      "C:\\Users\\michael\\AppData\\Roaming\\Python\\Python313\\site-packages\\scorecardpy\\condition_fun.py:40: FutureWarning: errors='ignore' is deprecated and will raise in a future version. Use to_numeric without passing `errors` and catch exceptions explicitly instead\n",
      "  datetime_cols = dat.apply(pd.to_numeric,errors='ignore').select_dtypes(object).apply(pd.to_datetime,errors='ignore').select_dtypes('datetime64').columns.tolist()\n",
      "C:\\Users\\michael\\AppData\\Roaming\\Python\\Python313\\site-packages\\scorecardpy\\condition_fun.py:40: FutureWarning: errors='ignore' is deprecated and will raise in a future version. Use to_datetime without passing `errors` and catch exceptions explicitly instead\n",
      "  datetime_cols = dat.apply(pd.to_numeric,errors='ignore').select_dtypes(object).apply(pd.to_datetime,errors='ignore').select_dtypes('datetime64').columns.tolist()\n",
      "C:\\Users\\michael\\AppData\\Roaming\\Python\\Python313\\site-packages\\scorecardpy\\condition_fun.py:40: UserWarning: Could not infer format, so each element will be parsed individually, falling back to `dateutil`. To ensure parsing is consistent and as-expected, please specify a format.\n",
      "  datetime_cols = dat.apply(pd.to_numeric,errors='ignore').select_dtypes(object).apply(pd.to_datetime,errors='ignore').select_dtypes('datetime64').columns.tolist()\n",
      "C:\\Users\\michael\\AppData\\Roaming\\Python\\Python313\\site-packages\\scorecardpy\\condition_fun.py:40: FutureWarning: errors='ignore' is deprecated and will raise in a future version. Use to_datetime without passing `errors` and catch exceptions explicitly instead\n",
      "  datetime_cols = dat.apply(pd.to_numeric,errors='ignore').select_dtypes(object).apply(pd.to_datetime,errors='ignore').select_dtypes('datetime64').columns.tolist()\n",
      "C:\\Users\\michael\\AppData\\Roaming\\Python\\Python313\\site-packages\\scorecardpy\\condition_fun.py:40: UserWarning: Could not infer format, so each element will be parsed individually, falling back to `dateutil`. To ensure parsing is consistent and as-expected, please specify a format.\n",
      "  datetime_cols = dat.apply(pd.to_numeric,errors='ignore').select_dtypes(object).apply(pd.to_datetime,errors='ignore').select_dtypes('datetime64').columns.tolist()\n",
      "C:\\Users\\michael\\AppData\\Roaming\\Python\\Python313\\site-packages\\scorecardpy\\condition_fun.py:40: FutureWarning: errors='ignore' is deprecated and will raise in a future version. Use to_datetime without passing `errors` and catch exceptions explicitly instead\n",
      "  datetime_cols = dat.apply(pd.to_numeric,errors='ignore').select_dtypes(object).apply(pd.to_datetime,errors='ignore').select_dtypes('datetime64').columns.tolist()\n",
      "C:\\Users\\michael\\AppData\\Roaming\\Python\\Python313\\site-packages\\scorecardpy\\condition_fun.py:40: UserWarning: Could not infer format, so each element will be parsed individually, falling back to `dateutil`. To ensure parsing is consistent and as-expected, please specify a format.\n",
      "  datetime_cols = dat.apply(pd.to_numeric,errors='ignore').select_dtypes(object).apply(pd.to_datetime,errors='ignore').select_dtypes('datetime64').columns.tolist()\n",
      "C:\\Users\\michael\\AppData\\Roaming\\Python\\Python313\\site-packages\\scorecardpy\\woebin.py:361: FutureWarning: The provided callable <built-in function sum> is currently using SeriesGroupBy.sum. In a future version of pandas, the provided callable will be used directly. To keep current behavior pass the string \"sum\" instead.\n",
      "  init_bin = init_bin.groupby('brkp', group_keys=False).agg({\n",
      "C:\\Users\\michael\\AppData\\Roaming\\Python\\Python313\\site-packages\\scorecardpy\\woebin.py:361: FutureWarning: The provided callable <built-in function sum> is currently using SeriesGroupBy.sum. In a future version of pandas, the provided callable will be used directly. To keep current behavior pass the string \"sum\" instead.\n",
      "  init_bin = init_bin.groupby('brkp', group_keys=False).agg({\n",
      "C:\\Users\\michael\\AppData\\Roaming\\Python\\Python313\\site-packages\\scorecardpy\\woebin.py:361: FutureWarning: The provided callable <built-in function sum> is currently using SeriesGroupBy.sum. In a future version of pandas, the provided callable will be used directly. To keep current behavior pass the string \"sum\" instead.\n",
      "  init_bin = init_bin.groupby('brkp', group_keys=False).agg({\n",
      "C:\\Users\\michael\\AppData\\Roaming\\Python\\Python313\\site-packages\\scorecardpy\\woebin.py:361: FutureWarning: The provided callable <built-in function sum> is currently using SeriesGroupBy.sum. In a future version of pandas, the provided callable will be used directly. To keep current behavior pass the string \"sum\" instead.\n",
      "  init_bin = init_bin.groupby('brkp', group_keys=False).agg({\n",
      "C:\\Users\\michael\\AppData\\Roaming\\Python\\Python313\\site-packages\\scorecardpy\\woebin.py:361: FutureWarning: The provided callable <built-in function sum> is currently using SeriesGroupBy.sum. In a future version of pandas, the provided callable will be used directly. To keep current behavior pass the string \"sum\" instead.\n",
      "  init_bin = init_bin.groupby('brkp', group_keys=False).agg({\n",
      "C:\\Users\\michael\\AppData\\Roaming\\Python\\Python313\\site-packages\\scorecardpy\\woebin.py:414: FutureWarning: The provided callable <built-in function sum> is currently using SeriesGroupBy.sum. In a future version of pandas, the provided callable will be used directly. To keep current behavior pass the string \"sum\" instead.\n",
      "  .agg({'good':sum, 'bad':sum}).reset_index()\\\n",
      "C:\\Users\\michael\\AppData\\Roaming\\Python\\Python313\\site-packages\\scorecardpy\\woebin.py:414: FutureWarning: The provided callable <built-in function sum> is currently using SeriesGroupBy.sum. In a future version of pandas, the provided callable will be used directly. To keep current behavior pass the string \"sum\" instead.\n",
      "  .agg({'good':sum, 'bad':sum}).reset_index()\\\n",
      "C:\\Users\\michael\\AppData\\Roaming\\Python\\Python313\\site-packages\\scorecardpy\\woebin.py:446: FutureWarning: The default of observed=False is deprecated and will be changed to True in a future version of pandas. Pass observed=False to retain current behavior or observed=True to adopt the future default and silence this warning.\n",
      "  binning_1bst_brk = binning_1bst_brk.groupby(['variable', 'bstbin'], group_keys=False)\\\n",
      "C:\\Users\\michael\\AppData\\Roaming\\Python\\Python313\\site-packages\\scorecardpy\\woebin.py:447: FutureWarning: The provided callable <built-in function sum> is currently using SeriesGroupBy.sum. In a future version of pandas, the provided callable will be used directly. To keep current behavior pass the string \"sum\" instead.\n",
      "  .agg({'good':sum, 'bad':sum, 'bin':lambda x:'%,%'.join(x)}).reset_index()\\\n",
      "C:\\Users\\michael\\AppData\\Roaming\\Python\\Python313\\site-packages\\scorecardpy\\woebin.py:447: FutureWarning: The provided callable <built-in function sum> is currently using SeriesGroupBy.sum. In a future version of pandas, the provided callable will be used directly. To keep current behavior pass the string \"sum\" instead.\n",
      "  .agg({'good':sum, 'bad':sum, 'bin':lambda x:'%,%'.join(x)}).reset_index()\\\n",
      "C:\\Users\\michael\\AppData\\Roaming\\Python\\Python313\\site-packages\\scorecardpy\\woebin.py:414: FutureWarning: The provided callable <built-in function sum> is currently using SeriesGroupBy.sum. In a future version of pandas, the provided callable will be used directly. To keep current behavior pass the string \"sum\" instead.\n",
      "  .agg({'good':sum, 'bad':sum}).reset_index()\\\n",
      "C:\\Users\\michael\\AppData\\Roaming\\Python\\Python313\\site-packages\\scorecardpy\\woebin.py:414: FutureWarning: The provided callable <built-in function sum> is currently using SeriesGroupBy.sum. In a future version of pandas, the provided callable will be used directly. To keep current behavior pass the string \"sum\" instead.\n",
      "  .agg({'good':sum, 'bad':sum}).reset_index()\\\n",
      "C:\\Users\\michael\\AppData\\Roaming\\Python\\Python313\\site-packages\\scorecardpy\\woebin.py:446: FutureWarning: The default of observed=False is deprecated and will be changed to True in a future version of pandas. Pass observed=False to retain current behavior or observed=True to adopt the future default and silence this warning.\n",
      "  binning_1bst_brk = binning_1bst_brk.groupby(['variable', 'bstbin'], group_keys=False)\\\n",
      "C:\\Users\\michael\\AppData\\Roaming\\Python\\Python313\\site-packages\\scorecardpy\\woebin.py:447: FutureWarning: The provided callable <built-in function sum> is currently using SeriesGroupBy.sum. In a future version of pandas, the provided callable will be used directly. To keep current behavior pass the string \"sum\" instead.\n",
      "  .agg({'good':sum, 'bad':sum, 'bin':lambda x:'%,%'.join(x)}).reset_index()\\\n",
      "C:\\Users\\michael\\AppData\\Roaming\\Python\\Python313\\site-packages\\scorecardpy\\woebin.py:447: FutureWarning: The provided callable <built-in function sum> is currently using SeriesGroupBy.sum. In a future version of pandas, the provided callable will be used directly. To keep current behavior pass the string \"sum\" instead.\n",
      "  .agg({'good':sum, 'bad':sum, 'bin':lambda x:'%,%'.join(x)}).reset_index()\\\n",
      "C:\\Users\\michael\\AppData\\Roaming\\Python\\Python313\\site-packages\\scorecardpy\\woebin.py:361: FutureWarning: The provided callable <built-in function sum> is currently using SeriesGroupBy.sum. In a future version of pandas, the provided callable will be used directly. To keep current behavior pass the string \"sum\" instead.\n",
      "  init_bin = init_bin.groupby('brkp', group_keys=False).agg({\n",
      "C:\\Users\\michael\\AppData\\Roaming\\Python\\Python313\\site-packages\\scorecardpy\\woebin.py:414: FutureWarning: The provided callable <built-in function sum> is currently using SeriesGroupBy.sum. In a future version of pandas, the provided callable will be used directly. To keep current behavior pass the string \"sum\" instead.\n",
      "  .agg({'good':sum, 'bad':sum}).reset_index()\\\n",
      "C:\\Users\\michael\\AppData\\Roaming\\Python\\Python313\\site-packages\\scorecardpy\\woebin.py:414: FutureWarning: The provided callable <built-in function sum> is currently using SeriesGroupBy.sum. In a future version of pandas, the provided callable will be used directly. To keep current behavior pass the string \"sum\" instead.\n",
      "  .agg({'good':sum, 'bad':sum}).reset_index()\\\n",
      "C:\\Users\\michael\\AppData\\Roaming\\Python\\Python313\\site-packages\\scorecardpy\\woebin.py:446: FutureWarning: The default of observed=False is deprecated and will be changed to True in a future version of pandas. Pass observed=False to retain current behavior or observed=True to adopt the future default and silence this warning.\n",
      "  binning_1bst_brk = binning_1bst_brk.groupby(['variable', 'bstbin'], group_keys=False)\\\n",
      "C:\\Users\\michael\\AppData\\Roaming\\Python\\Python313\\site-packages\\scorecardpy\\woebin.py:447: FutureWarning: The provided callable <built-in function sum> is currently using SeriesGroupBy.sum. In a future version of pandas, the provided callable will be used directly. To keep current behavior pass the string \"sum\" instead.\n",
      "  .agg({'good':sum, 'bad':sum, 'bin':lambda x:'%,%'.join(x)}).reset_index()\\\n",
      "C:\\Users\\michael\\AppData\\Roaming\\Python\\Python313\\site-packages\\scorecardpy\\woebin.py:447: FutureWarning: The provided callable <built-in function sum> is currently using SeriesGroupBy.sum. In a future version of pandas, the provided callable will be used directly. To keep current behavior pass the string \"sum\" instead.\n",
      "  .agg({'good':sum, 'bad':sum, 'bin':lambda x:'%,%'.join(x)}).reset_index()\\\n",
      "C:\\Users\\michael\\AppData\\Roaming\\Python\\Python313\\site-packages\\scorecardpy\\woebin.py:414: FutureWarning: The provided callable <built-in function sum> is currently using SeriesGroupBy.sum. In a future version of pandas, the provided callable will be used directly. To keep current behavior pass the string \"sum\" instead.\n",
      "  .agg({'good':sum, 'bad':sum}).reset_index()\\\n",
      "C:\\Users\\michael\\AppData\\Roaming\\Python\\Python313\\site-packages\\scorecardpy\\woebin.py:414: FutureWarning: The provided callable <built-in function sum> is currently using SeriesGroupBy.sum. In a future version of pandas, the provided callable will be used directly. To keep current behavior pass the string \"sum\" instead.\n",
      "  .agg({'good':sum, 'bad':sum}).reset_index()\\\n",
      "C:\\Users\\michael\\AppData\\Roaming\\Python\\Python313\\site-packages\\scorecardpy\\woebin.py:446: FutureWarning: The default of observed=False is deprecated and will be changed to True in a future version of pandas. Pass observed=False to retain current behavior or observed=True to adopt the future default and silence this warning.\n",
      "  binning_1bst_brk = binning_1bst_brk.groupby(['variable', 'bstbin'], group_keys=False)\\\n",
      "C:\\Users\\michael\\AppData\\Roaming\\Python\\Python313\\site-packages\\scorecardpy\\woebin.py:447: FutureWarning: The provided callable <built-in function sum> is currently using SeriesGroupBy.sum. In a future version of pandas, the provided callable will be used directly. To keep current behavior pass the string \"sum\" instead.\n",
      "  .agg({'good':sum, 'bad':sum, 'bin':lambda x:'%,%'.join(x)}).reset_index()\\\n",
      "C:\\Users\\michael\\AppData\\Roaming\\Python\\Python313\\site-packages\\scorecardpy\\woebin.py:447: FutureWarning: The provided callable <built-in function sum> is currently using SeriesGroupBy.sum. In a future version of pandas, the provided callable will be used directly. To keep current behavior pass the string \"sum\" instead.\n",
      "  .agg({'good':sum, 'bad':sum, 'bin':lambda x:'%,%'.join(x)}).reset_index()\\\n",
      "C:\\Users\\michael\\AppData\\Roaming\\Python\\Python313\\site-packages\\scorecardpy\\woebin.py:361: FutureWarning: The provided callable <built-in function sum> is currently using SeriesGroupBy.sum. In a future version of pandas, the provided callable will be used directly. To keep current behavior pass the string \"sum\" instead.\n",
      "  init_bin = init_bin.groupby('brkp', group_keys=False).agg({\n",
      "C:\\Users\\michael\\AppData\\Roaming\\Python\\Python313\\site-packages\\scorecardpy\\woebin.py:414: FutureWarning: The provided callable <built-in function sum> is currently using SeriesGroupBy.sum. In a future version of pandas, the provided callable will be used directly. To keep current behavior pass the string \"sum\" instead.\n",
      "  .agg({'good':sum, 'bad':sum}).reset_index()\\\n",
      "C:\\Users\\michael\\AppData\\Roaming\\Python\\Python313\\site-packages\\scorecardpy\\woebin.py:414: FutureWarning: The provided callable <built-in function sum> is currently using SeriesGroupBy.sum. In a future version of pandas, the provided callable will be used directly. To keep current behavior pass the string \"sum\" instead.\n",
      "  .agg({'good':sum, 'bad':sum}).reset_index()\\\n",
      "C:\\Users\\michael\\AppData\\Roaming\\Python\\Python313\\site-packages\\scorecardpy\\woebin.py:446: FutureWarning: The default of observed=False is deprecated and will be changed to True in a future version of pandas. Pass observed=False to retain current behavior or observed=True to adopt the future default and silence this warning.\n",
      "  binning_1bst_brk = binning_1bst_brk.groupby(['variable', 'bstbin'], group_keys=False)\\\n",
      "C:\\Users\\michael\\AppData\\Roaming\\Python\\Python313\\site-packages\\scorecardpy\\woebin.py:447: FutureWarning: The provided callable <built-in function sum> is currently using SeriesGroupBy.sum. In a future version of pandas, the provided callable will be used directly. To keep current behavior pass the string \"sum\" instead.\n",
      "  .agg({'good':sum, 'bad':sum, 'bin':lambda x:'%,%'.join(x)}).reset_index()\\\n",
      "C:\\Users\\michael\\AppData\\Roaming\\Python\\Python313\\site-packages\\scorecardpy\\woebin.py:447: FutureWarning: The provided callable <built-in function sum> is currently using SeriesGroupBy.sum. In a future version of pandas, the provided callable will be used directly. To keep current behavior pass the string \"sum\" instead.\n",
      "  .agg({'good':sum, 'bad':sum, 'bin':lambda x:'%,%'.join(x)}).reset_index()\\\n",
      "C:\\Users\\michael\\AppData\\Roaming\\Python\\Python313\\site-packages\\scorecardpy\\woebin.py:414: FutureWarning: The provided callable <built-in function sum> is currently using SeriesGroupBy.sum. In a future version of pandas, the provided callable will be used directly. To keep current behavior pass the string \"sum\" instead.\n",
      "  .agg({'good':sum, 'bad':sum}).reset_index()\\\n",
      "C:\\Users\\michael\\AppData\\Roaming\\Python\\Python313\\site-packages\\scorecardpy\\woebin.py:414: FutureWarning: The provided callable <built-in function sum> is currently using SeriesGroupBy.sum. In a future version of pandas, the provided callable will be used directly. To keep current behavior pass the string \"sum\" instead.\n",
      "  .agg({'good':sum, 'bad':sum}).reset_index()\\\n",
      "C:\\Users\\michael\\AppData\\Roaming\\Python\\Python313\\site-packages\\scorecardpy\\woebin.py:446: FutureWarning: The default of observed=False is deprecated and will be changed to True in a future version of pandas. Pass observed=False to retain current behavior or observed=True to adopt the future default and silence this warning.\n",
      "  binning_1bst_brk = binning_1bst_brk.groupby(['variable', 'bstbin'], group_keys=False)\\\n",
      "C:\\Users\\michael\\AppData\\Roaming\\Python\\Python313\\site-packages\\scorecardpy\\woebin.py:447: FutureWarning: The provided callable <built-in function sum> is currently using SeriesGroupBy.sum. In a future version of pandas, the provided callable will be used directly. To keep current behavior pass the string \"sum\" instead.\n",
      "  .agg({'good':sum, 'bad':sum, 'bin':lambda x:'%,%'.join(x)}).reset_index()\\\n",
      "C:\\Users\\michael\\AppData\\Roaming\\Python\\Python313\\site-packages\\scorecardpy\\woebin.py:447: FutureWarning: The provided callable <built-in function sum> is currently using SeriesGroupBy.sum. In a future version of pandas, the provided callable will be used directly. To keep current behavior pass the string \"sum\" instead.\n",
      "  .agg({'good':sum, 'bad':sum, 'bin':lambda x:'%,%'.join(x)}).reset_index()\\\n"
     ]
    },
    {
     "name": "stdout",
     "output_type": "stream",
     "text": [
      "[INFO] converting into woe values ...\n"
     ]
    }
   ],
   "source": [
    "#  Encode Categorical Variables using scorecardpy's WOE\n",
    "# ---------------------\n",
    "# Assuming 'FraudResult' is the target variable and 'ProductCategory', 'ProviderId', 'ChannelId' are the features\n",
    "features = ['ProductCategory', 'ProviderId', 'ChannelId']\n",
    "\n",
    "# Calculate the WOE and IV for each feature\n",
    "bins = sc.woebin(df, y='FraudResult', x=features)\n",
    "\n",
    "# Apply the WOE transformation to the dataset\n",
    "df_woe = sc.woebin_ply(df, bins)"
   ]
  },
  {
   "cell_type": "code",
   "execution_count": 98,
   "id": "e2af4b74",
   "metadata": {},
   "outputs": [],
   "source": [
    "##  Handle Missing Values"
   ]
  },
  {
   "cell_type": "code",
   "execution_count": 99,
   "id": "304e132b",
   "metadata": {},
   "outputs": [
    {
     "name": "stderr",
     "output_type": "stream",
     "text": [
      "C:\\Users\\michael\\AppData\\Local\\Temp\\ipykernel_10812\\551821202.py:3: FutureWarning: A value is trying to be set on a copy of a DataFrame or Series through chained assignment using an inplace method.\n",
      "The behavior will change in pandas 3.0. This inplace method will never work because the intermediate object on which we are setting values always behaves as a copy.\n",
      "\n",
      "For example, when doing 'df[col].method(value, inplace=True)', try using 'df.method({col: value}, inplace=True)' or df[col] = df[col].method(value) instead, to perform the operation inplace on the original object.\n",
      "\n",
      "\n",
      "  df_woe[col].fillna(df_woe[col].median(), inplace=True)\n",
      "C:\\Users\\michael\\AppData\\Local\\Temp\\ipykernel_10812\\551821202.py:3: FutureWarning: A value is trying to be set on a copy of a DataFrame or Series through chained assignment using an inplace method.\n",
      "The behavior will change in pandas 3.0. This inplace method will never work because the intermediate object on which we are setting values always behaves as a copy.\n",
      "\n",
      "For example, when doing 'df[col].method(value, inplace=True)', try using 'df.method({col: value}, inplace=True)' or df[col] = df[col].method(value) instead, to perform the operation inplace on the original object.\n",
      "\n",
      "\n",
      "  df_woe[col].fillna(df_woe[col].median(), inplace=True)\n",
      "C:\\Users\\michael\\AppData\\Local\\Temp\\ipykernel_10812\\551821202.py:3: FutureWarning: A value is trying to be set on a copy of a DataFrame or Series through chained assignment using an inplace method.\n",
      "The behavior will change in pandas 3.0. This inplace method will never work because the intermediate object on which we are setting values always behaves as a copy.\n",
      "\n",
      "For example, when doing 'df[col].method(value, inplace=True)', try using 'df.method({col: value}, inplace=True)' or df[col] = df[col].method(value) instead, to perform the operation inplace on the original object.\n",
      "\n",
      "\n",
      "  df_woe[col].fillna(df_woe[col].median(), inplace=True)\n",
      "C:\\Users\\michael\\AppData\\Local\\Temp\\ipykernel_10812\\551821202.py:3: FutureWarning: A value is trying to be set on a copy of a DataFrame or Series through chained assignment using an inplace method.\n",
      "The behavior will change in pandas 3.0. This inplace method will never work because the intermediate object on which we are setting values always behaves as a copy.\n",
      "\n",
      "For example, when doing 'df[col].method(value, inplace=True)', try using 'df.method({col: value}, inplace=True)' or df[col] = df[col].method(value) instead, to perform the operation inplace on the original object.\n",
      "\n",
      "\n",
      "  df_woe[col].fillna(df_woe[col].median(), inplace=True)\n",
      "C:\\Users\\michael\\AppData\\Local\\Temp\\ipykernel_10812\\551821202.py:3: FutureWarning: A value is trying to be set on a copy of a DataFrame or Series through chained assignment using an inplace method.\n",
      "The behavior will change in pandas 3.0. This inplace method will never work because the intermediate object on which we are setting values always behaves as a copy.\n",
      "\n",
      "For example, when doing 'df[col].method(value, inplace=True)', try using 'df.method({col: value}, inplace=True)' or df[col] = df[col].method(value) instead, to perform the operation inplace on the original object.\n",
      "\n",
      "\n",
      "  df_woe[col].fillna(df_woe[col].median(), inplace=True)\n",
      "C:\\Users\\michael\\AppData\\Local\\Temp\\ipykernel_10812\\551821202.py:7: FutureWarning: A value is trying to be set on a copy of a DataFrame or Series through chained assignment using an inplace method.\n",
      "The behavior will change in pandas 3.0. This inplace method will never work because the intermediate object on which we are setting values always behaves as a copy.\n",
      "\n",
      "For example, when doing 'df[col].method(value, inplace=True)', try using 'df.method({col: value}, inplace=True)' or df[col] = df[col].method(value) instead, to perform the operation inplace on the original object.\n",
      "\n",
      "\n",
      "  df_woe[col].fillna(df_woe[col].mode()[0], inplace=True)\n"
     ]
    }
   ],
   "source": [
    "# Fill missing numerical columns with median\n",
    "for col in ['Amount', 'Value', 'TotalTransactionAmount', 'AverageTransactionAmount', 'TransactionAmountStd']:\n",
    "    df_woe[col].fillna(df_woe[col].median(), inplace=True)\n",
    "\n",
    "# Handle missing values for categorical WOE columns\n",
    "for col in ['ProductCategory_woe', 'CurrencyCode', 'ProviderId_woe', 'ChannelId_woe']:\n",
    "    df_woe[col].fillna(df_woe[col].mode()[0], inplace=True)"
   ]
  },
  {
   "cell_type": "code",
   "execution_count": 100,
   "id": "dca0bb30",
   "metadata": {},
   "outputs": [],
   "source": [
    "## Normalize/Standardize Numerical Features"
   ]
  },
  {
   "cell_type": "code",
   "execution_count": 101,
   "id": "299eaa25",
   "metadata": {},
   "outputs": [],
   "source": [
    "# Standardize (mean=0, std=1) the numerical features\n",
    "scaler = StandardScaler()\n",
    "df_woe[['Amount', 'Value', 'TotalTransactionAmount', 'AverageTransactionAmount', 'TransactionAmountStd']] = scaler.fit_transform(\n",
    "    df_woe[['Amount', 'Value', 'TotalTransactionAmount', 'AverageTransactionAmount', 'TransactionAmountStd']]\n",
    ")"
   ]
  },
  {
   "cell_type": "code",
   "execution_count": 102,
   "id": "62f12127",
   "metadata": {},
   "outputs": [
    {
     "name": "stdout",
     "output_type": "stream",
     "text": [
      "       TransactionStartTime  TransactionMonth  PricingStrategy  CountryCode  \\\n",
      "0 2018-11-15 02:18:49+00:00                11                2          256   \n",
      "1 2018-11-15 02:19:08+00:00                11                2          256   \n",
      "2 2018-11-15 02:44:21+00:00                11                2          256   \n",
      "3 2018-11-15 03:32:55+00:00                11                2          256   \n",
      "4 2018-11-15 03:34:21+00:00                11                2          256   \n",
      "\n",
      "   TransactionDay  TransactionHour  AverageTransactionAmount  \\\n",
      "0              15                2                 -0.067623   \n",
      "1              15                2                 -0.067623   \n",
      "2              15                2                 -0.072568   \n",
      "3              15                3                 -0.008155   \n",
      "4              15                3                 -0.008155   \n",
      "\n",
      "   TransactionCount        TransactionId  TotalTransactionAmount  ...  \\\n",
      "0               119  TransactionId_76871                0.170118  ...   \n",
      "1               119  TransactionId_73770                0.170118  ...   \n",
      "2                 2  TransactionId_26203                0.165122  ...   \n",
      "3                38    TransactionId_380                0.175567  ...   \n",
      "4                38  TransactionId_28195                0.175567  ...   \n",
      "\n",
      "   CurrencyCode       SubscriptionId     ProductId         BatchId    Amount  \\\n",
      "0           UGX   SubscriptionId_887  ProductId_10   BatchId_36123 -0.046371   \n",
      "1           UGX  SubscriptionId_3829   ProductId_6   BatchId_15642 -0.054643   \n",
      "2           UGX   SubscriptionId_222   ProductId_1   BatchId_53941 -0.050426   \n",
      "3           UGX  SubscriptionId_2185  ProductId_21  BatchId_102363  0.107717   \n",
      "4           UGX  SubscriptionId_3829   ProductId_6   BatchId_38780 -0.059704   \n",
      "\n",
      "        AccountId TransactionYear ProductCategory_woe  ProviderId_woe  \\\n",
      "0  AccountId_3957            2018           -1.690824       -2.906446   \n",
      "1  AccountId_4841            2018            0.607033       -2.906446   \n",
      "2  AccountId_4229            2018           -1.690824       -2.906446   \n",
      "3   AccountId_648            2018            0.607033        1.939442   \n",
      "4  AccountId_4841            2018            0.607033       -2.906446   \n",
      "\n",
      "  ChannelId_woe  \n",
      "0      0.484515  \n",
      "1     -2.736867  \n",
      "2      0.484515  \n",
      "3      0.484515  \n",
      "4     -2.736867  \n",
      "\n",
      "[5 rows x 24 columns]\n"
     ]
    }
   ],
   "source": [
    "# Final check of the dataset\n",
    "print(df_woe.head())"
   ]
  },
  {
   "cell_type": "code",
   "execution_count": 103,
   "id": "83d821e7",
   "metadata": {},
   "outputs": [],
   "source": [
    "# Save the processed dataset to CSV \n",
    "df_woe.to_csv('../data/proccessed/processed_data.csv', index=False)"
   ]
  }
 ],
 "metadata": {
  "kernelspec": {
   "display_name": "Python 3",
   "language": "python",
   "name": "python3"
  },
  "language_info": {
   "codemirror_mode": {
    "name": "ipython",
    "version": 3
   },
   "file_extension": ".py",
   "mimetype": "text/x-python",
   "name": "python",
   "nbconvert_exporter": "python",
   "pygments_lexer": "ipython3",
   "version": "3.13.3"
  }
 },
 "nbformat": 4,
 "nbformat_minor": 5
}
